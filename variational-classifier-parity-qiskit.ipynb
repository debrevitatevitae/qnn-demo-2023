{
 "cells": [
  {
   "cell_type": "code",
   "execution_count": null,
   "metadata": {},
   "outputs": [],
   "source": [
    "!pip install qiskit\n",
    "!pip install qiskit-machine-learning"
   ]
  },
  {
   "cell_type": "code",
   "execution_count": 172,
   "metadata": {},
   "outputs": [],
   "source": [
    "from IPython.display import clear_output\n",
    "import numpy as np\n",
    "from qiskit import QuantumCircuit\n",
    "from qiskit.algorithms.optimizers import AQGD\n",
    "from qiskit.circuit import Parameter, ParameterVector\n",
    "from qiskit.quantum_info import SparsePauliOp, Pauli\n",
    "from qiskit_machine_learning.algorithms.classifiers import NeuralNetworkClassifier\n",
    "from qiskit_machine_learning.neural_networks import EstimatorQNN\n",
    "from qiskit.utils import algorithm_globals\n",
    "from sklearn.model_selection import train_test_split\n"
   ]
  },
  {
   "cell_type": "code",
   "execution_count": 204,
   "metadata": {},
   "outputs": [],
   "source": [
    "algorithm_globals.random_seed = 0"
   ]
  },
  {
   "cell_type": "code",
   "execution_count": 205,
   "metadata": {},
   "outputs": [],
   "source": [
    "n_qubits = 4"
   ]
  },
  {
   "cell_type": "code",
   "execution_count": 307,
   "metadata": {},
   "outputs": [],
   "source": [
    "def layer(W):\n",
    "    \"\"\"Applies a layer of arbitrary rotations and circular entanglements to the variational circuit\n",
    "\n",
    "    Args:\n",
    "        W (np.ndarray): rotation parameters for the layer\n",
    "    \"\"\"\n",
    "    qc = QuantumCircuit(n_qubits)\n",
    "\n",
    "    for i in range(n_qubits):\n",
    "        # qc.rz(W[i*3], i)\n",
    "        qc.ry(W[i*2], i)\n",
    "        qc.rz(W[i*2 + 1], i)\n",
    "\n",
    "    for i in range(n_qubits-1):\n",
    "        qc.cnot(i, i+1)\n",
    "\n",
    "    if n_qubits > 2:\n",
    "        qc.cnot(n_qubits-1, 0)\n",
    "\n",
    "    return qc"
   ]
  },
  {
   "attachments": {},
   "cell_type": "markdown",
   "metadata": {},
   "source": [
    "In Qiskit, there is not basis state preparation circuit and anyway we need to work with `Parameter` objects to use the `qiskit-machine-learning` tools. So we just encode $R_Y$ rotation, pass the parameters and multiply by $\\pi$."
   ]
  },
  {
   "cell_type": "code",
   "execution_count": 308,
   "metadata": {},
   "outputs": [],
   "source": [
    "n_layers = 2\n",
    "\n",
    "weight_params = ParameterVector(name='W', length=2 * n_qubits * n_layers)\n",
    "# weight_params=ParameterVector('W')\n",
    "input_params = ParameterVector(name='x', length=n_qubits)"
   ]
  },
  {
   "cell_type": "code",
   "execution_count": 309,
   "metadata": {},
   "outputs": [],
   "source": [
    "def global_phase_gate(qc, phase, qubit):\n",
    "    qc.p(phase, qubit)\n",
    "    qc.x(qubit)\n",
    "    qc.p(phase, qubit)\n",
    "    qc.x(qubit)\n",
    "\n",
    "\n",
    "def statepreparation(x):\n",
    "    \"\"\"Prepares the binary state fed to the vqc\n",
    "\n",
    "    Args:\n",
    "        x (List): list of 0s and 1s corresponding to the basis state\n",
    "    \"\"\"\n",
    "    qc = QuantumCircuit(n_qubits)\n",
    "    \n",
    "    for i, x_i in enumerate(x):\n",
    "        qc.rx(x_i * np.pi, i)\n",
    "        global_phase_gate(qc, np.pi/2, i)\n",
    "\n",
    "\n",
    "    return qc"
   ]
  },
  {
   "cell_type": "code",
   "execution_count": 310,
   "metadata": {},
   "outputs": [],
   "source": [
    "# prepare the quantum circuit\n",
    "qc = QuantumCircuit(n_qubits)\n",
    "qc = qc.compose(statepreparation(input_params))\n",
    "for l in range(n_layers):\n",
    "    qc = qc.compose(layer(weight_params[2 * n_qubits * l: 2 * n_qubits * (l+1)]))\n"
   ]
  },
  {
   "cell_type": "code",
   "execution_count": 311,
   "metadata": {},
   "outputs": [
    {
     "data": {
      "text/html": [
       "<pre style=\"word-wrap: normal;white-space: pre;background: #fff0;line-height: 1.1;font-family: &quot;Courier New&quot;,Courier,monospace\">     ┌────────────┐┌────────┐┌───┐┌────────┐┌───┐┌──────────┐┌──────────┐     »\n",
       "q_0: ┤ Rx(π*x[0]) ├┤ P(π/2) ├┤ X ├┤ P(π/2) ├┤ X ├┤ Ry(W[0]) ├┤ Rz(W[1]) ├──■──»\n",
       "     ├────────────┤├────────┤├───┤├────────┤├───┤├──────────┤├──────────┤┌─┴─┐»\n",
       "q_1: ┤ Rx(π*x[1]) ├┤ P(π/2) ├┤ X ├┤ P(π/2) ├┤ X ├┤ Ry(W[2]) ├┤ Rz(W[3]) ├┤ X ├»\n",
       "     ├────────────┤├────────┤├───┤├────────┤├───┤├──────────┤├──────────┤└───┘»\n",
       "q_2: ┤ Rx(π*x[2]) ├┤ P(π/2) ├┤ X ├┤ P(π/2) ├┤ X ├┤ Ry(W[4]) ├┤ Rz(W[5]) ├─────»\n",
       "     ├────────────┤├────────┤├───┤├────────┤├───┤├──────────┤├──────────┤     »\n",
       "q_3: ┤ Rx(π*x[3]) ├┤ P(π/2) ├┤ X ├┤ P(π/2) ├┤ X ├┤ Ry(W[6]) ├┤ Rz(W[7]) ├─────»\n",
       "     └────────────┘└────────┘└───┘└────────┘└───┘└──────────┘└──────────┘     »\n",
       "«                       ┌───┐ ┌──────────┐ ┌──────────┐               ┌───┐\n",
       "«q_0: ──────────────────┤ X ├─┤ Ry(W[8]) ├─┤ Rz(W[9]) ├──■────────────┤ X ├\n",
       "«          ┌───────────┐└─┬─┘┌┴──────────┤ └──────────┘┌─┴─┐          └─┬─┘\n",
       "«q_1: ──■──┤ Ry(W[10]) ├──┼──┤ Rz(W[11]) ├─────────────┤ X ├──■─────────┼──\n",
       "«     ┌─┴─┐└───────────┘  │  ├───────────┤┌───────────┐└───┘┌─┴─┐       │  \n",
       "«q_2: ┤ X ├──────■────────┼──┤ Ry(W[12]) ├┤ Rz(W[13]) ├─────┤ X ├──■────┼──\n",
       "«     └───┘    ┌─┴─┐      │  ├───────────┤├───────────┤     └───┘┌─┴─┐  │  \n",
       "«q_3: ─────────┤ X ├──────■──┤ Ry(W[14]) ├┤ Rz(W[15]) ├──────────┤ X ├──■──\n",
       "«              └───┘         └───────────┘└───────────┘          └───┘     </pre>"
      ],
      "text/plain": [
       "     ┌────────────┐┌────────┐┌───┐┌────────┐┌───┐┌──────────┐┌──────────┐     »\n",
       "q_0: ┤ Rx(π*x[0]) ├┤ P(π/2) ├┤ X ├┤ P(π/2) ├┤ X ├┤ Ry(W[0]) ├┤ Rz(W[1]) ├──■──»\n",
       "     ├────────────┤├────────┤├───┤├────────┤├───┤├──────────┤├──────────┤┌─┴─┐»\n",
       "q_1: ┤ Rx(π*x[1]) ├┤ P(π/2) ├┤ X ├┤ P(π/2) ├┤ X ├┤ Ry(W[2]) ├┤ Rz(W[3]) ├┤ X ├»\n",
       "     ├────────────┤├────────┤├───┤├────────┤├───┤├──────────┤├──────────┤└───┘»\n",
       "q_2: ┤ Rx(π*x[2]) ├┤ P(π/2) ├┤ X ├┤ P(π/2) ├┤ X ├┤ Ry(W[4]) ├┤ Rz(W[5]) ├─────»\n",
       "     ├────────────┤├────────┤├───┤├────────┤├───┤├──────────┤├──────────┤     »\n",
       "q_3: ┤ Rx(π*x[3]) ├┤ P(π/2) ├┤ X ├┤ P(π/2) ├┤ X ├┤ Ry(W[6]) ├┤ Rz(W[7]) ├─────»\n",
       "     └────────────┘└────────┘└───┘└────────┘└───┘└──────────┘└──────────┘     »\n",
       "«                       ┌───┐ ┌──────────┐ ┌──────────┐               ┌───┐\n",
       "«q_0: ──────────────────┤ X ├─┤ Ry(W[8]) ├─┤ Rz(W[9]) ├──■────────────┤ X ├\n",
       "«          ┌───────────┐└─┬─┘┌┴──────────┤ └──────────┘┌─┴─┐          └─┬─┘\n",
       "«q_1: ──■──┤ Ry(W[10]) ├──┼──┤ Rz(W[11]) ├─────────────┤ X ├──■─────────┼──\n",
       "«     ┌─┴─┐└───────────┘  │  ├───────────┤┌───────────┐└───┘┌─┴─┐       │  \n",
       "«q_2: ┤ X ├──────■────────┼──┤ Ry(W[12]) ├┤ Rz(W[13]) ├─────┤ X ├──■────┼──\n",
       "«     └───┘    ┌─┴─┐      │  ├───────────┤├───────────┤     └───┘┌─┴─┐  │  \n",
       "«q_3: ─────────┤ X ├──────■──┤ Ry(W[14]) ├┤ Rz(W[15]) ├──────────┤ X ├──■──\n",
       "«              └───┘         └───────────┘└───────────┘          └───┘     "
      ]
     },
     "execution_count": 311,
     "metadata": {},
     "output_type": "execute_result"
    }
   ],
   "source": [
    "qc.draw()"
   ]
  },
  {
   "cell_type": "code",
   "execution_count": 312,
   "metadata": {},
   "outputs": [],
   "source": [
    "# define an observable\n",
    "# observable = SparsePauliOp.from_list([(\"IIIZ\", 1)])\n",
    "observable = Pauli(\"IIIZ\")"
   ]
  },
  {
   "cell_type": "code",
   "execution_count": 316,
   "metadata": {},
   "outputs": [],
   "source": [
    "# define the qnn\n",
    "# qnn = EstimatorQNN(circuit=qc, input_params=input_params, weight_params=weight_params)\n",
    "qnn = EstimatorQNN(circuit=qc, input_params=input_params, weight_params=weight_params)"
   ]
  },
  {
   "cell_type": "code",
   "execution_count": 321,
   "metadata": {},
   "outputs": [
    {
     "data": {
      "text/plain": [
       "array([[0.99947736]])"
      ]
     },
     "execution_count": 321,
     "metadata": {},
     "output_type": "execute_result"
    }
   ],
   "source": [
    "input_trial = [0, 0, 0, 0]\n",
    "weights_init = .01 * algorithm_globals.random.normal(size=(qnn.num_weights))\n",
    "# weights_init = np.zeros(shape=(qnn.num_weights,))\n",
    "# weights_init = np.pi * algorithm_globals.random.random(size=(1, qnn.num_weights)) - np.pi/2\n",
    "qnn.forward(input_trial, weights=weights_init)"
   ]
  },
  {
   "cell_type": "code",
   "execution_count": 285,
   "metadata": {},
   "outputs": [],
   "source": [
    "import matplotlib.pyplot as plt\n",
    "\n",
    "# callback function that draws a live plot when the .fit() method is called\n",
    "loss_hist = []\n",
    "\n",
    "\n",
    "def callback_graph(weights, obj_func_eval):\n",
    "    clear_output(wait=True)\n",
    "    loss_hist.append(obj_func_eval)\n",
    "    plt.title(\"Loss per epoch\")\n",
    "    plt.xlabel(\"Epoch no.\")\n",
    "    plt.ylabel(\"Loss value\")\n",
    "    plt.plot(range(len(loss_hist)), loss_hist)\n",
    "    plt.show()"
   ]
  },
  {
   "cell_type": "code",
   "execution_count": 286,
   "metadata": {},
   "outputs": [],
   "source": [
    "classifier = NeuralNetworkClassifier(neural_network=qnn, loss=\"squared_error\", optimizer=AQGD(maxiter=200, eta=.5, momentum=.9), initial_point=weights_init, callback=callback_graph)"
   ]
  },
  {
   "cell_type": "code",
   "execution_count": 287,
   "metadata": {},
   "outputs": [],
   "source": [
    "data = np.loadtxt(\"data/parity.txt\")\n",
    "\n",
    "X = np.array(data[:, :-1])\n",
    "y = np.array(data[:, -1])\n",
    "\n",
    "# shift lables from [0, 1] to [-1, 1], to match the range of expectation values\n",
    "y = 2 * y - np.ones(len(y))\n",
    "\n",
    "X_train, X_test, y_train, y_test = train_test_split(X, y, test_size=.25, random_state=algorithm_globals.random_seed, shuffle=True)"
   ]
  },
  {
   "cell_type": "code",
   "execution_count": 288,
   "metadata": {},
   "outputs": [
    {
     "data": {
      "text/plain": [
       "array([[0.50761091],\n",
       "       [0.5318627 ],\n",
       "       [0.996105  ],\n",
       "       [0.51072535],\n",
       "       [0.99608629],\n",
       "       [0.53433813],\n",
       "       [0.51048802],\n",
       "       [0.99562342],\n",
       "       [0.99564213],\n",
       "       [0.99632416],\n",
       "       [0.53161555],\n",
       "       [0.5078469 ]])"
      ]
     },
     "execution_count": 288,
     "metadata": {},
     "output_type": "execute_result"
    }
   ],
   "source": [
    "qnn.forward(X_train, weights_init)"
   ]
  },
  {
   "cell_type": "code",
   "execution_count": 167,
   "metadata": {},
   "outputs": [
    {
     "data": {
      "image/png": "[encoded data removed]",
      "text/plain": [
       "<Figure size 640x480 with 1 Axes>"
      ]
     },
     "metadata": {},
     "output_type": "display_data"
    },
    {
     "data": {
      "text/plain": [
       "<qiskit_machine_learning.algorithms.classifiers.neural_network_classifier.NeuralNetworkClassifier at 0x7f5dd391c910>"
      ]
     },
     "execution_count": 167,
     "metadata": {},
     "output_type": "execute_result"
    }
   ],
   "source": [
    "classifier.fit(X_train, y_train)"
   ]
  },
  {
   "cell_type": "code",
   "execution_count": 149,
   "metadata": {},
   "outputs": [
    {
     "data": {
      "text/plain": [
       "0.25"
      ]
     },
     "execution_count": 149,
     "metadata": {},
     "output_type": "execute_result"
    }
   ],
   "source": [
    "classifier.score(X_test, y_test)"
   ]
  },
  {
   "cell_type": "code",
   "execution_count": null,
   "metadata": {},
   "outputs": [],
   "source": []
  }
 ],
 "metadata": {
  "kernelspec": {
   "display_name": "venv",
   "language": "python",
   "name": "python3"
  },
  "language_info": {
   "codemirror_mode": {
    "name": "ipython",
    "version": 3
   },
   "file_extension": ".py",
   "mimetype": "text/x-python",
   "name": "python",
   "nbconvert_exporter": "python",
   "pygments_lexer": "ipython3",
   "version": "3.10.6"
  },
  "orig_nbformat": 4
 },
 "nbformat": 4,
 "nbformat_minor": 2
}
