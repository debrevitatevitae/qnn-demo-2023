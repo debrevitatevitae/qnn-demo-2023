{
 "cells": [
  {
   "cell_type": "code",
   "execution_count": null,
   "metadata": {},
   "outputs": [],
   "source": [
    "!pip install qiskit\n",
    "!pip install qiskit-machine-learning"
   ]
  },
  {
   "cell_type": "code",
   "execution_count": 14,
   "metadata": {},
   "outputs": [],
   "source": [
    "import numpy as np\n",
    "from qiskit import QuantumCircuit\n",
    "from qiskit.circuit import Parameter, ParameterVector\n",
    "from qiskit.quantum_info import SparsePauliOp\n",
    "from qiskit_machine_learning.neural_networks import EstimatorQNN\n",
    "from qiskit.utils import algorithm_globals\n"
   ]
  },
  {
   "cell_type": "code",
   "execution_count": 15,
   "metadata": {},
   "outputs": [],
   "source": [
    "n_qubits = 4"
   ]
  },
  {
   "cell_type": "code",
   "execution_count": 16,
   "metadata": {},
   "outputs": [],
   "source": [
    "def layer(W):\n",
    "    \"\"\"Applies a layer of arbitrary rotations and circular entanglements to the variational circuit\n",
    "\n",
    "    Args:\n",
    "        W (np.ndarray): rotation parameters for the layer\n",
    "    \"\"\"\n",
    "    qc = QuantumCircuit(n_qubits)\n",
    "\n",
    "    for i in range(n_qubits):\n",
    "        qc.u(W[i*3], W[i*3 + 1], W[i*3 + 2], i)\n",
    "\n",
    "    for i in range(n_qubits-1):\n",
    "        qc.cnot(i, i+1)\n",
    "\n",
    "    if n_qubits > 2:\n",
    "        qc.cnot(n_qubits-1, 0)\n",
    "\n",
    "    return qc"
   ]
  },
  {
   "attachments": {},
   "cell_type": "markdown",
   "metadata": {},
   "source": [
    "In Qiskit, there is not basis state preparation circuit and anyway we need to work with `Parameter` objects to use the `qiskit-machine-learning` tools. So we just encode $R_X$ rotation, pass the parameters and multiply by $\\pi$."
   ]
  },
  {
   "cell_type": "code",
   "execution_count": 23,
   "metadata": {},
   "outputs": [],
   "source": [
    "def statepreparation(x):\n",
    "    \"\"\"Prepares the binary state fed to the vqc\n",
    "\n",
    "    Args:\n",
    "        x (List): list of 0s and 1s corresponding to the basis state\n",
    "    \"\"\"\n",
    "    qc = QuantumCircuit(n_qubits)\n",
    "    \n",
    "    for i, x_i in enumerate(x):\n",
    "        qc.rx(x_i * np.pi, i)\n",
    "\n",
    "    return qc"
   ]
  },
  {
   "cell_type": "code",
   "execution_count": 24,
   "metadata": {},
   "outputs": [],
   "source": [
    "n_layers = 2\n",
    "\n",
    "weight_params = ParameterVector(name='W', length=3 * n_qubits * n_layers)\n",
    "input_params = ParameterVector(name='x', length=n_qubits)"
   ]
  },
  {
   "cell_type": "code",
   "execution_count": 25,
   "metadata": {},
   "outputs": [],
   "source": [
    "# prepare the quantum circuit\n",
    "qc = QuantumCircuit(n_qubits)\n",
    "qc = qc.compose(statepreparation(input_params))\n",
    "for l in range(n_layers):\n",
    "    qc = qc.compose(layer(weight_params[3 * n_qubits * l: 3 * n_qubits * (l+1)]))\n"
   ]
  },
  {
   "cell_type": "code",
   "execution_count": 26,
   "metadata": {},
   "outputs": [
    {
     "data": {
      "text/html": [
       "<pre style=\"word-wrap: normal;white-space: pre;background: #fff0;line-height: 1.1;font-family: &quot;Courier New&quot;,Courier,monospace\">     ┌────────────┐ ┌───────────────────┐                                   »\n",
       "q_0: ┤ Rx(π*x[0]) ├─┤ U(W[0],W[1],W[2]) ├───■───────────────────────────────»\n",
       "     ├────────────┤ ├───────────────────┤ ┌─┴─┐     ┌──────────────────────┐»\n",
       "q_1: ┤ Rx(π*x[1]) ├─┤ U(W[3],W[4],W[5]) ├─┤ X ├──■──┤ U(W[15],W[16],W[17]) ├»\n",
       "     ├────────────┤ ├───────────────────┤ └───┘┌─┴─┐└──────────────────────┘»\n",
       "q_2: ┤ Rx(π*x[2]) ├─┤ U(W[6],W[7],W[8]) ├──────┤ X ├───────────■────────────»\n",
       "     ├────────────┤┌┴───────────────────┴┐     └───┘         ┌─┴─┐          »\n",
       "q_3: ┤ Rx(π*x[3]) ├┤ U(W[9],W[10],W[11]) ├───────────────────┤ X ├──────────»\n",
       "     └────────────┘└─────────────────────┘                   └───┘          »\n",
       "«     ┌───┐┌──────────────────────┐               ┌───┐\n",
       "«q_0: ┤ X ├┤ U(W[12],W[13],W[14]) ├──■────────────┤ X ├\n",
       "«     └─┬─┘└──────────────────────┘┌─┴─┐          └─┬─┘\n",
       "«q_1: ──┼──────────────────────────┤ X ├──■─────────┼──\n",
       "«       │  ┌──────────────────────┐└───┘┌─┴─┐       │  \n",
       "«q_2: ──┼──┤ U(W[18],W[19],W[20]) ├─────┤ X ├──■────┼──\n",
       "«       │  ├──────────────────────┤     └───┘┌─┴─┐  │  \n",
       "«q_3: ──■──┤ U(W[21],W[22],W[23]) ├──────────┤ X ├──■──\n",
       "«          └──────────────────────┘          └───┘     </pre>"
      ],
      "text/plain": [
       "     ┌────────────┐ ┌───────────────────┐                                   »\n",
       "q_0: ┤ Rx(π*x[0]) ├─┤ U(W[0],W[1],W[2]) ├───■───────────────────────────────»\n",
       "     ├────────────┤ ├───────────────────┤ ┌─┴─┐     ┌──────────────────────┐»\n",
       "q_1: ┤ Rx(π*x[1]) ├─┤ U(W[3],W[4],W[5]) ├─┤ X ├──■──┤ U(W[15],W[16],W[17]) ├»\n",
       "     ├────────────┤ ├───────────────────┤ └───┘┌─┴─┐└──────────────────────┘»\n",
       "q_2: ┤ Rx(π*x[2]) ├─┤ U(W[6],W[7],W[8]) ├──────┤ X ├───────────■────────────»\n",
       "     ├────────────┤┌┴───────────────────┴┐     └───┘         ┌─┴─┐          »\n",
       "q_3: ┤ Rx(π*x[3]) ├┤ U(W[9],W[10],W[11]) ├───────────────────┤ X ├──────────»\n",
       "     └────────────┘└─────────────────────┘                   └───┘          »\n",
       "«     ┌───┐┌──────────────────────┐               ┌───┐\n",
       "«q_0: ┤ X ├┤ U(W[12],W[13],W[14]) ├──■────────────┤ X ├\n",
       "«     └─┬─┘└──────────────────────┘┌─┴─┐          └─┬─┘\n",
       "«q_1: ──┼──────────────────────────┤ X ├──■─────────┼──\n",
       "«       │  ┌──────────────────────┐└───┘┌─┴─┐       │  \n",
       "«q_2: ──┼──┤ U(W[18],W[19],W[20]) ├─────┤ X ├──■────┼──\n",
       "«       │  ├──────────────────────┤     └───┘┌─┴─┐  │  \n",
       "«q_3: ──■──┤ U(W[21],W[22],W[23]) ├──────────┤ X ├──■──\n",
       "«          └──────────────────────┘          └───┘     "
      ]
     },
     "execution_count": 26,
     "metadata": {},
     "output_type": "execute_result"
    }
   ],
   "source": [
    "qc.draw()"
   ]
  },
  {
   "cell_type": "code",
   "execution_count": 27,
   "metadata": {},
   "outputs": [],
   "source": [
    "# define an observable\n",
    "observable = SparsePauliOp.from_list([(\"ZIII\", 1)])"
   ]
  },
  {
   "cell_type": "code",
   "execution_count": 28,
   "metadata": {},
   "outputs": [],
   "source": [
    "# define the qnn\n",
    "qnn = EstimatorQNN(circuit=qc, observables= observable, input_params=input_params, weight_params=weight_params)"
   ]
  },
  {
   "cell_type": "code",
   "execution_count": 30,
   "metadata": {},
   "outputs": [
    {
     "data": {
      "text/plain": [
       "array([[-0.14887673]])"
      ]
     },
     "execution_count": 30,
     "metadata": {},
     "output_type": "execute_result"
    }
   ],
   "source": [
    "input_trial = [0, 1, 0, 0]\n",
    "weights_trial = algorithm_globals.random.random(qnn.num_weights)\n",
    "qnn.forward(input_trial, weights_trial)"
   ]
  },
  {
   "cell_type": "code",
   "execution_count": null,
   "metadata": {},
   "outputs": [],
   "source": []
  }
 ],
 "metadata": {
  "kernelspec": {
   "display_name": "venv",
   "language": "python",
   "name": "python3"
  },
  "language_info": {
   "codemirror_mode": {
    "name": "ipython",
    "version": 3
   },
   "file_extension": ".py",
   "mimetype": "text/x-python",
   "name": "python",
   "nbconvert_exporter": "python",
   "pygments_lexer": "ipython3",
   "version": "3.9.10"
  },
  "orig_nbformat": 4
 },
 "nbformat": 4,
 "nbformat_minor": 2
}
